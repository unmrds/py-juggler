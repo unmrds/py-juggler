{
 "cells": [
  {
   "cell_type": "markdown",
   "metadata": {},
   "source": [
    "# Python environment for creating and managing TaskJuggler Projects"
   ]
  },
  {
   "cell_type": "code",
   "execution_count": 31,
   "metadata": {},
   "outputs": [],
   "source": [
    "import pyjuggler as pj\n",
    "import imp"
   ]
  },
  {
   "cell_type": "code",
   "execution_count": 76,
   "metadata": {},
   "outputs": [],
   "source": [
    "imp.reload(pj)\n",
    "test = pj.Project(name=\"Test TaskJuggler Project\")\n",
    "test.setflag(\"summary_report\")\n",
    "test.setflag(\"detail_report\")\n"
   ]
  },
  {
   "cell_type": "code",
   "execution_count": 77,
   "metadata": {},
   "outputs": [
    {
     "name": "stdout",
     "output_type": "stream",
     "text": [
      "project b12e1e26-255b-4b0b-b23b-e751d10ee530 \"Test TaskJuggler Project\" 2017-07-01 - 2024-06-30 {\n",
      "\ttimingresolution 60min\n",
      "\ttimezone \"America/Denver\"\n",
      "\tdailyworkinghours 8\n",
      "\tyearlyworkingdays 260\n",
      "\ttimeformat \"%Y-%m-%d %H:%M\"\n",
      "\tshorttimeformat \"%H:%M\"\n",
      "\tcurrencyformat '(\" \")\" \",\" \".\" 0'\n",
      "\tweekstartsmonday\n",
      "\tworkinghours mon - fri 8:00 - 12:00, 13:00 - 17:00\n",
      "\tworkinghours sat, sun off\n",
      "\toutputdir \"reports_2017-11-22T14_09_32.076222\"\n",
      "}\n",
      "\n",
      "flags summary_report, detail_report\n",
      "Unexpected error: <class 'docker.errors.ContainerError'>\n"
     ]
    }
   ],
   "source": [
    "print(test.getTJproject())\n",
    "print(test.getTJflags())\n",
    "test.generate()"
   ]
  },
  {
   "cell_type": "code",
   "execution_count": null,
   "metadata": {
    "collapsed": true
   },
   "outputs": [],
   "source": []
  }
 ],
 "metadata": {
  "kernelspec": {
   "display_name": "Python 3",
   "language": "python",
   "name": "python3"
  },
  "language_info": {
   "codemirror_mode": {
    "name": "ipython",
    "version": 3
   },
   "file_extension": ".py",
   "mimetype": "text/x-python",
   "name": "python",
   "nbconvert_exporter": "python",
   "pygments_lexer": "ipython3",
   "version": "3.6.1"
  }
 },
 "nbformat": 4,
 "nbformat_minor": 2
}
